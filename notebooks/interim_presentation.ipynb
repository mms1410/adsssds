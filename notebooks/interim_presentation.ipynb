{
 "cells": [
  {
   "cell_type": "code",
   "execution_count": 1,
   "id": "2ccddb96-c351-4c2d-9c22-ed1e23a72dc9",
   "metadata": {},
   "outputs": [],
   "source": [
    "from adsssds_project.data import get_german_credit"
   ]
  },
  {
   "cell_type": "code",
   "execution_count": 2,
   "id": "7dd8daa1-1995-4856-80ab-9fdadaf2541f",
   "metadata": {},
   "outputs": [],
   "source": [
    "X, y = get_german_credit(xy = True)"
   ]
  }
 ],
 "metadata": {
  "kernelspec": {
   "display_name": "Python (adsssds)",
   "language": "python",
   "name": "adsssds_env"
  },
  "language_info": {
   "codemirror_mode": {
    "name": "ipython",
    "version": 3
   },
   "file_extension": ".py",
   "mimetype": "text/x-python",
   "name": "python",
   "nbconvert_exporter": "python",
   "pygments_lexer": "ipython3",
   "version": "3.13.5"
  }
 },
 "nbformat": 4,
 "nbformat_minor": 5
}
