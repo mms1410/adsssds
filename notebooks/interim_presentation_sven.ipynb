{
 "cells": [
  {
   "cell_type": "raw",
   "id": "2c61587d-e8e3-43b7-943b-31179e6a4e38",
   "metadata": {},
   "source": [
    "---\n",
    "title: \"Interim Presentation\"\n",
    "author: \"Sven Maurice Morlock\"\n",
    "format:\n",
    "  beamer:\n",
    "    theme: Madrid\n",
    "    slide-level: 2         # Each ## heading starts a new slide\n",
    "bibliography: ../references/references.bib  # your bib file path\n",
    "---"
   ]
  },
  {
   "cell_type": "markdown",
   "id": "0c4e6e68-b5c7-4e7b-bdb2-d4f6b2d7271d",
   "metadata": {},
   "source": [
    "## Motivation and Aim I\n",
    "\n",
    "- 'German Credit' popular small sized dataset to predict credit worthiness\n",
    "- contains in total 20 covariates and one target (good/bad customer)\n",
    "\n",
    "### Known Issues\n",
    "  - [@kamiran2012], [@feldman2015] $\\rightarrow$ gender\n",
    "  - [@zliobaite2017], [@barocas2016] $\\rightarrow$ age\n",
    "  - [@galhotra2017] $\\rightarrow$ foreign_worker\n",
    "\n",
    "\n",
    "## Motivation and Aim II\n",
    "- Fairness-metrics used to adress fairness issues\n",
    "  - AIF460-toolkit: Statistical Parity Difference, Disparate Impact, Equal Opportunity Difference\n",
    "\n",
    "- Research Question: Assesment of fairnes metrics and model design \n",
    "- Idea from [@Simson_2024]\n",
    "  - create different combinations of possible decision \n",
    "  - focus on preprocessing\n",
    "  - selection of variables / observations / scaling / binning\n",
    "\n",
    "## Project Agenda\n",
    "\n",
    "- dataset available at openml\n",
    "- AIF460 open source\n",
    "\n",
    "### Roadmap\n",
    "1. Create different preprocessing szenarios/datasets\n",
    "2. Evaluate fairness-metric\n",
    "3. Report\n",
    "\n",
    "## Open Questions\n",
    "\n",
    "- several pre-build models $\\rightarrow$ use only, say, top kaggle performer?\n",
    "  - top predictor not top fair...\n",
    "- in total 20 covariats, would focus on gender, age, foreign_worker\n",
    "  - but still the others could be included/excluded $\\rightarrow$lot of combinations\n",
    "- plan right now to focus (only) on preprocessing\n",
    "  - 'specification curve analysis' also possible\n",
    "\n",
    "## References\n",
    "\n",
    "\\footnotesize\n",
    "\n",
    "::: {#refs}\n",
    ":::\n"
   ]
  }
 ],
 "metadata": {
  "kernelspec": {
   "display_name": "Python (adsssds)",
   "language": "python",
   "name": "adsssds-env"
  },
  "language_info": {
   "codemirror_mode": {
    "name": "ipython",
    "version": 3
   },
   "file_extension": ".py",
   "mimetype": "text/x-python",
   "name": "python",
   "nbconvert_exporter": "python",
   "pygments_lexer": "ipython3",
   "version": "3.13.5"
  }
 },
 "nbformat": 4,
 "nbformat_minor": 5
}
